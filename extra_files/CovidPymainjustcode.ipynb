{
 "cells": [
  {
   "cell_type": "markdown",
   "id": "270eeb5a",
   "metadata": {},
   "source": [
    "Introduction (What we want to do and what data we are looking at):\n",
    "A novel corona virus (COVID 19) was identified in 2019 in Wuhan China. It has spread rapidly worldwide and was officially declared to be a pandemic by the WHO. To better understand the data available about it, we will be doing exploratory data analysis of the available COVID 19 data. The goal of the project is to study the impact of COVID 19 across the world using Python, Pandas and Matplotlib and present visualizations to show our analysis."
   ]
  },
  {
   "cell_type": "code",
   "execution_count": null,
   "id": "d92d42fa",
   "metadata": {},
   "outputs": [],
   "source": [
    "# Dependencies and Setup\n",
    "import matplotlib.pyplot as plt\n",
    "import pandas as pd\n",
    "import numpy as np\n",
    "import seaborn as sns\n",
    "import requests\n",
    "from scipy.stats import pearsonr\n",
    "#from config import covid_key\n",
    "import json\n",
    "import time\n",
    "from scipy.stats import linregress\n",
    "from datetime import datetime, timedelta\n",
    "import plotly\n",
    "import plotly.express as px\n",
    "import plotly.graph_objects as go\n",
    "from plotly import tools\n",
    "from plotly.offline import init_notebook_mode, plot, iplot\n"
   ]
  },
  {
   "cell_type": "code",
   "execution_count": null,
   "id": "746bbc15",
   "metadata": {},
   "outputs": [],
   "source": [
    "# Loading the data\n",
    "file = \"Data/owid-covid-data.csv\"\n",
    "\n",
    "# Reading the data into a pandas dataframe\n",
    "data = pd.read_csv(file)"
   ]
  },
  {
   "cell_type": "code",
   "execution_count": null,
   "id": "2ec26ca7",
   "metadata": {},
   "outputs": [],
   "source": [
    "# Get all the columns in the dataframe to look for the data needed\n",
    "data.columns"
   ]
  },
  {
   "cell_type": "markdown",
   "id": "4a9b5857",
   "metadata": {},
   "source": [
    "# Top 10 Countries by Cases - Victoria"
   ]
  },
  {
   "cell_type": "code",
   "execution_count": null,
   "id": "901064f0",
   "metadata": {},
   "outputs": [],
   "source": [
    "#Victoria\n",
    "data_vs = pd.read_csv(file)\n",
    "data_vs[\"date\"] = pd.to_datetime(data_vs[\"date\"])"
   ]
  },
  {
   "cell_type": "code",
   "execution_count": null,
   "id": "f04cf1b9",
   "metadata": {},
   "outputs": [],
   "source": [
    "#CODE FROM MAIN COVIDPY.ipynb FILE; CHANGED DF\n",
    "\n",
    "# number of countries\n",
    "count_countries = data_vs['location'].nunique()\n",
    "\n",
    "# number of continents\n",
    "count_continents = data_vs['continent'].nunique()\n",
    "\n",
    "print(\"This research includes data from \", count_countries, \"countries from\", count_continents, \"continents.\")\n"
   ]
  },
  {
   "cell_type": "code",
   "execution_count": null,
   "id": "5d8f6ab8",
   "metadata": {},
   "outputs": [],
   "source": [
    "begin_date = data_vs['date'].min()\n",
    "\n",
    "through_date = data_vs['date'].max()\n",
    "\n",
    "print(\"The date ranges for this dataset are \", begin_date, \"through \", through_date)"
   ]
  },
  {
   "cell_type": "code",
   "execution_count": null,
   "id": "556a4259",
   "metadata": {},
   "outputs": [],
   "source": [
    "covid_data_2022_03_31 = data_vs.loc[(data_vs[\"date\"] == \"2022-03-31\")]\n",
    "\n",
    "\n",
    "covid_data_continents_2022_03_31 = covid_data_2022_03_31.loc[(covid_data_2022_03_31[\"continent\"] == \"Asia\") | \n",
    "                                            (covid_data_2022_03_31[\"continent\"] == \"Europe\") | \n",
    "                                            (covid_data_2022_03_31[\"continent\"] == \"Africa\") | \n",
    "                                            (covid_data_2022_03_31[\"continent\"] == \"North America\") | \n",
    "                                            (covid_data_2022_03_31[\"continent\"] == \"South America\") | \n",
    "                                            (covid_data_2022_03_31[\"continent\"] == \"Oceania\")]\n",
    "\n",
    "\n",
    "top_10_by_cases = covid_data_continents_2022_03_31.nlargest(10, 'total_cases')\n",
    "\n",
    "\n",
    "print(\"The 10 countries with the highest reported number of COVID-19 cases as of March 31st, 2022 are: \", top_10_by_cases[\"location\"].tolist() )\n"
   ]
  },
  {
   "cell_type": "code",
   "execution_count": null,
   "id": "1caf6b1f",
   "metadata": {},
   "outputs": [],
   "source": [
    "top_10_by_cases[[\"location\", \"total_cases\"]]"
   ]
  },
  {
   "cell_type": "code",
   "execution_count": null,
   "id": "c2ccbd2d",
   "metadata": {},
   "outputs": [],
   "source": [
    "plt.figure(figsize=(14,6))\n",
    "plt.bar(\"location\", \"total_cases\", data=top_10_by_cases)\n",
    "plt.xlabel(\"Country\", size=15)\n",
    "plt.ylabel(\"Cases\", size=15)\n",
    "#plt.ylim( [ 0, 100000000 ] )  \n",
    "plt.title(\"Top 10 Countries by COVID-19 Cases (effective 03.31.2022)\", size=18)\n",
    "#plt.savefig(\"bar_plot_matplotlib_Python.png\")"
   ]
  },
  {
   "cell_type": "code",
   "execution_count": null,
   "id": "1e825fa1",
   "metadata": {},
   "outputs": [],
   "source": [
    "fig = px.bar(top_10_by_cases, x='location', y='total_cases', \n",
    "            color='location',\n",
    "            title='Top 10 Countries by COVID-19 Cases (effective 03.31.2022)',\n",
    "            labels={\"location\": \"Country\",\n",
    "                    \"total_cases\": \"Total Cases\"})\n",
    "\n",
    "fig.show('notebook')"
   ]
  },
  {
   "cell_type": "code",
   "execution_count": null,
   "id": "b29fd72e",
   "metadata": {},
   "outputs": [],
   "source": [
    "\n",
    "covid_data_continents_all_dates = data_vs.loc[(data_vs[\"continent\"] == \"Asia\") | \n",
    "                                            (data_vs[\"continent\"] == \"Europe\") | \n",
    "                                            (data_vs[\"continent\"] == \"Africa\") | \n",
    "                                            (data_vs[\"continent\"] == \"North America\") | \n",
    "                                            (data_vs[\"continent\"] == \"South America\") | \n",
    "                                            (data_vs[\"continent\"] == \"Oceania\")]\n",
    "\n",
    "\n",
    "covid_data_grouped = covid_data_continents_all_dates.groupby([\"location\"]).sum().reset_index()\n",
    "\n",
    "\n",
    "print(\"The 10 countries with the highest reported number of COVID-19 related hospital admissions are: \")\n",
    "\n",
    "\n",
    "weekly_hosp_admissions = covid_data_grouped[[\"location\", \"weekly_hosp_admissions\"]]\n",
    "weekly_hosp_admissions.sort_values(by = [\"weekly_hosp_admissions\"], ascending=False).head(10)"
   ]
  },
  {
   "cell_type": "code",
   "execution_count": null,
   "id": "ef6f2cea",
   "metadata": {},
   "outputs": [],
   "source": [
    "print(\"The 10 countries with the highest reported number of COVID-19 related ICU admissions are: \")\n",
    "\n",
    "weekly_icu_admissions = covid_data_grouped[[\"location\", \"weekly_icu_admissions\"]]\n",
    "weekly_icu_admissions.sort_values(by = [\"weekly_icu_admissions\"], ascending=False).head(10)"
   ]
  },
  {
   "cell_type": "code",
   "execution_count": null,
   "id": "192ca7d9",
   "metadata": {},
   "outputs": [],
   "source": [
    "covid_data_location_date = covid_data_continents_all_dates.groupby([\"location\", \"date\"]).sum().reset_index()\n",
    "\n",
    "\n",
    "covid_data_top10_weekly_hosp_admissions = covid_data_location_date.loc[\n",
    "                                            (covid_data_location_date[\"location\"] == \"United States\") |\n",
    "                                            (covid_data_location_date[\"location\"] == \"United Kingdom\") | \n",
    "                                            (covid_data_location_date[\"location\"] == \"France\") | \n",
    "                                            (covid_data_location_date[\"location\"] == \"Spain\") | \n",
    "                                            (covid_data_location_date[\"location\"] == \"Italy\") |\n",
    "                                            (covid_data_location_date[\"location\"] == \"Germany\") |\n",
    "                                            (covid_data_location_date[\"location\"] == \"Malaysia\") |\n",
    "                                            (covid_data_location_date[\"location\"] == \"Czeche\") |\n",
    "                                            (covid_data_location_date[\"location\"] == \"Chile\") | \n",
    "                                            (covid_data_location_date[\"location\"] == \"South Korea\")]\n",
    "\n",
    "\n",
    "covid_data_weekly_hosp_admissions_US = covid_data_location_date.loc[(covid_data_location_date[\"location\"] == \"United States\")]\n",
    "covid_data_weekly_hosp_admissions_UK = covid_data_location_date.loc[(covid_data_location_date[\"location\"] == \"United Kingdom\")]\n",
    "covid_data_weekly_hosp_admissions_France = covid_data_location_date.loc[(covid_data_location_date[\"location\"] == \"France\")]\n",
    "covid_data_weekly_hosp_admissions_Spain = covid_data_location_date.loc[(covid_data_location_date[\"location\"] == \"Spain\")]\n",
    "covid_data_weekly_hosp_admissions_Italy = covid_data_location_date.loc[(covid_data_location_date[\"location\"] == \"Italy\")]\n",
    "covid_data_weekly_hosp_admissions_Germany = covid_data_location_date.loc[(covid_data_location_date[\"location\"] == \"Germany\")]\n",
    "covid_data_weekly_hosp_admissions_Malaysia = covid_data_location_date.loc[(covid_data_location_date[\"location\"] == \"Malaysia\")]\n",
    "covid_data_weekly_hosp_admissions_Czeche = covid_data_location_date.loc[(covid_data_location_date[\"location\"] == \"Czeche\")]\n",
    "covid_data_weekly_hosp_admissions_Chile = covid_data_location_date.loc[(covid_data_location_date[\"location\"] == \"Chile\")]\n",
    "covid_data_weekly_hosp_admissions_South_Korea = covid_data_location_date.loc[(covid_data_location_date[\"location\"] == \"South Korea\")]\n",
    "\n",
    "\n",
    "plt.figure(figsize=(14,6))\n",
    "plt.plot(covid_data_weekly_hosp_admissions_US[\"date\"], covid_data_weekly_hosp_admissions_US[\"weekly_hosp_admissions\"])\n",
    "plt.plot(covid_data_weekly_hosp_admissions_UK[\"date\"], covid_data_weekly_hosp_admissions_UK[\"weekly_hosp_admissions\"])\n",
    "plt.plot(covid_data_weekly_hosp_admissions_France[\"date\"], covid_data_weekly_hosp_admissions_France[\"weekly_hosp_admissions\"])\n",
    "plt.plot(covid_data_weekly_hosp_admissions_Spain[\"date\"], covid_data_weekly_hosp_admissions_Spain[\"weekly_hosp_admissions\"])\n",
    "plt.plot(covid_data_weekly_hosp_admissions_Italy[\"date\"], covid_data_weekly_hosp_admissions_Italy[\"weekly_hosp_admissions\"])\n",
    "plt.plot(covid_data_weekly_hosp_admissions_Germany[\"date\"], covid_data_weekly_hosp_admissions_Germany[\"weekly_hosp_admissions\"])\n",
    "plt.plot(covid_data_weekly_hosp_admissions_Malaysia[\"date\"], covid_data_weekly_hosp_admissions_Malaysia[\"weekly_hosp_admissions\"])\n",
    "plt.plot(covid_data_weekly_hosp_admissions_Czeche[\"date\"], covid_data_weekly_hosp_admissions_Czeche[\"weekly_hosp_admissions\"])\n",
    "plt.plot(covid_data_weekly_hosp_admissions_Chile[\"date\"], covid_data_weekly_hosp_admissions_Chile[\"weekly_hosp_admissions\"])\n",
    "plt.plot(covid_data_weekly_hosp_admissions_South_Korea[\"date\"], covid_data_weekly_hosp_admissions_South_Korea[\"weekly_hosp_admissions\"])\n",
    "plt.xlabel(\"\", size=15)\n",
    "plt.ylabel(\"Weekly Hospital Admissions\", size=15)\n",
    "#plt.ylim( [ 0, 100000000 ] )  \n",
    "plt.title(\"Top 10 Countries by COVID-19 Hospital Admissions\", size=18)\n",
    "plt.legend([\"United States\", \"United Kingdom\", \"France\", \"Spain\", \"Italy\", \"Germany\", \"Malaysia\", \"Czeche\", \"Chile\", \"South Korea\"])\n",
    "#plt.savefig(\"bar_plot_matplotlib_Python.png\")\n",
    "plt.show()"
   ]
  },
  {
   "cell_type": "code",
   "execution_count": null,
   "id": "0dd3f165",
   "metadata": {},
   "outputs": [],
   "source": [
    "fig = px.line(covid_data_top10_weekly_hosp_admissions, x='date',y='weekly_hosp_admissions', \n",
    "                color='location',\n",
    "                title='Top 10 Countries by COVID-19 Hospital Admissions',\n",
    "                labels={\"date\": \"\",\n",
    "                    \"weekly_hosp_admissions\": \"Weekly Hospital Admissions\",\n",
    "                    \"location\": \"Country\"})\n",
    "fig.show('notebook')"
   ]
  },
  {
   "cell_type": "code",
   "execution_count": null,
   "id": "4d17a080",
   "metadata": {},
   "outputs": [],
   "source": [
    "covid_data_top10_weekly_icu_admissions = covid_data_location_date.loc[\n",
    "                                            (covid_data_location_date[\"location\"] == \"France\") | \n",
    "                                            (covid_data_location_date[\"location\"] == \"Spain\") |\n",
    "                                            (covid_data_location_date[\"location\"] == \"Chile\") | \n",
    "                                            (covid_data_location_date[\"location\"] == \"Germany\") |\n",
    "                                            (covid_data_location_date[\"location\"] == \"Italy\") |\n",
    "                                            (covid_data_location_date[\"location\"] == \"Czechia\") |\n",
    "                                            (covid_data_location_date[\"location\"] == \"Netherlands\") |\n",
    "                                            (covid_data_location_date[\"location\"] == \"Isreal\") |\n",
    "                                            (covid_data_location_date[\"location\"] == \"Greece\") |\n",
    "                                            (covid_data_location_date[\"location\"] == \"South Korea\")]\n",
    "\n",
    "covid_data_weekly_icu_admissions_France = covid_data_location_date.loc[(covid_data_location_date[\"location\"] == \"France\")]\n",
    "covid_data_weekly_icu_admissions_Spain = covid_data_location_date.loc[(covid_data_location_date[\"location\"] == \"Spain\")]\n",
    "covid_data_weekly_icu_admissions_Chile = covid_data_location_date.loc[(covid_data_location_date[\"location\"] == \"Chile\")]\n",
    "covid_data_weekly_icu_admissions_Germany = covid_data_location_date.loc[(covid_data_location_date[\"location\"] == \"Germany\")]\n",
    "covid_data_weekly_icu_admissions_Italy = covid_data_location_date.loc[(covid_data_location_date[\"location\"] == \"Italy\")]\n",
    "covid_data_weekly_icu_admissions_Czechia = covid_data_location_date.loc[(covid_data_location_date[\"location\"] == \"Czechia\")]\n",
    "covid_data_weekly_icu_admissions_Netherlands = covid_data_location_date.loc[(covid_data_location_date[\"location\"] == \"Netherlands\")]\n",
    "covid_data_weekly_icu_admissions_Isreal = covid_data_location_date.loc[(covid_data_location_date[\"location\"] == \"Isreal\")]\n",
    "covid_data_weekly_icu_admissions_Greece = covid_data_location_date.loc[(covid_data_location_date[\"location\"] == \"Greece\")]\n",
    "covid_data_weekly_icu_admissions_South_Korea = covid_data_location_date.loc[(covid_data_location_date[\"location\"] == \"South Korea\")]\n",
    "\n",
    "\n",
    "plt.figure(figsize=(14,6))\n",
    "plt.plot(covid_data_weekly_icu_admissions_France[\"date\"], covid_data_weekly_icu_admissions_France[\"weekly_icu_admissions\"])\n",
    "plt.plot(covid_data_weekly_icu_admissions_Spain[\"date\"], covid_data_weekly_icu_admissions_Spain[\"weekly_icu_admissions\"])\n",
    "plt.plot(covid_data_weekly_icu_admissions_Chile[\"date\"], covid_data_weekly_icu_admissions_Chile[\"weekly_icu_admissions\"])\n",
    "plt.plot(covid_data_weekly_icu_admissions_Germany[\"date\"], covid_data_weekly_icu_admissions_Germany[\"weekly_icu_admissions\"])\n",
    "plt.plot(covid_data_weekly_icu_admissions_Italy[\"date\"], covid_data_weekly_icu_admissions_Italy[\"weekly_icu_admissions\"])\n",
    "plt.plot(covid_data_weekly_icu_admissions_Czechia[\"date\"], covid_data_weekly_icu_admissions_Czechia[\"weekly_icu_admissions\"])\n",
    "plt.plot(covid_data_weekly_icu_admissions_Netherlands[\"date\"], covid_data_weekly_icu_admissions_Netherlands[\"weekly_icu_admissions\"])\n",
    "plt.plot(covid_data_weekly_icu_admissions_Isreal[\"date\"], covid_data_weekly_icu_admissions_Isreal[\"weekly_icu_admissions\"])\n",
    "plt.plot(covid_data_weekly_icu_admissions_Greece[\"date\"], covid_data_weekly_icu_admissions_Greece[\"weekly_icu_admissions\"])\n",
    "plt.plot(covid_data_weekly_icu_admissions_South_Korea[\"date\"], covid_data_weekly_icu_admissions_South_Korea[\"weekly_icu_admissions\"])\n",
    "plt.xlabel(\"\", size=15)\n",
    "plt.ylabel(\"Weekly ICU Admissions\", size=15)\n",
    "#plt.ylim( [ 0, 100000000 ] )  \n",
    "plt.title(\"Top 10 Countries by COVID-19 ICU Admissions\", size=18)\n",
    "plt.legend([\"France\", \"Spain\", \"Chile\", \"Germany\", \"Italy\", \"Czechia\", \"Netherlands\", \"Isreal\", \"Greece\", \"South Korea\"])\n",
    "#plt.savefig(\"bar_plot_matplotlib_Python.png\")\n",
    "plt.show()"
   ]
  },
  {
   "cell_type": "code",
   "execution_count": null,
   "id": "477829da",
   "metadata": {},
   "outputs": [],
   "source": [
    "fig = px.line(covid_data_top10_weekly_icu_admissions, x='date',y='weekly_icu_admissions', \n",
    "                color='location',\n",
    "                title='Top 10 Countries by COVID-19 ICU Admissions',\n",
    "                labels={\"date\": \"\",\n",
    "                    \"weekly_icu_admissions\": \"Weekly ICU Admissions\",\n",
    "                    \"location\": \"Country\"})\n",
    "fig.show('notebook')"
   ]
  },
  {
   "cell_type": "markdown",
   "id": "8b7ab5c8",
   "metadata": {},
   "source": [
    "# Trend of Covid related total deaths by country - Vasanta"
   ]
  },
  {
   "cell_type": "code",
   "execution_count": null,
   "id": "1edfd29f",
   "metadata": {},
   "outputs": [],
   "source": [
    "# Create a new dataframe with only the columns we want\n",
    "covid_df = data[['iso_code','continent','location','date','people_fully_vaccinated','people_fully_vaccinated_per_hundred','total_deaths', 'new_deaths']]\n",
    "covid_df"
   ]
  },
  {
   "cell_type": "markdown",
   "id": "1745b5cf",
   "metadata": {},
   "source": [
    "## Clean the data"
   ]
  },
  {
   "cell_type": "code",
   "execution_count": null,
   "id": "310c8aca",
   "metadata": {},
   "outputs": [],
   "source": [
    "# Drop the rows from continents rows with no data\n",
    "covid_df_continent_clean = covid_df.dropna(subset=['continent'])\n",
    "covid_df_continent_clean"
   ]
  },
  {
   "cell_type": "markdown",
   "id": "42e82ebf",
   "metadata": {},
   "source": [
    "### Cleaned data in clean covid dataframe"
   ]
  },
  {
   "cell_type": "code",
   "execution_count": null,
   "id": "860242ea",
   "metadata": {},
   "outputs": [],
   "source": [
    "# Fill the missing values in the columns with 0\n",
    "clean_covid_df = covid_df_continent_clean.fillna(value=0)\n",
    "clean_covid_df"
   ]
  },
  {
   "cell_type": "code",
   "execution_count": null,
   "id": "5a21d2f4",
   "metadata": {},
   "outputs": [],
   "source": [
    "# Add a column for the max of total deaths to clean covid dataframe as it is cumulative\n",
    "clean_covid_df['max_total_deaths'] = clean_covid_df.groupby('location')['total_deaths'].transform('max')\n",
    "sorted_max_10deaths_df = clean_covid_df.sort_values(by='max_total_deaths', ascending=False).drop_duplicates(subset='max_total_deaths').nlargest(10, 'max_total_deaths')\n",
    "sorted_max_50deaths_df = clean_covid_df.sort_values(by='max_total_deaths', ascending=False).drop_duplicates(subset='max_total_deaths').nlargest(50, 'max_total_deaths')\n",
    "sorted_max_10deaths_df"
   ]
  },
  {
   "cell_type": "code",
   "execution_count": null,
   "id": "b0170f44",
   "metadata": {},
   "outputs": [],
   "source": [
    "#scatter plot of Top 50 countries with the highest number of deaths till that date\n",
    "fig = px.scatter(sorted_max_50deaths_df, x='date',y='max_total_deaths', color='location',title='Total Deaths')\n",
    "fig.show('notebook')"
   ]
  },
  {
   "cell_type": "code",
   "execution_count": null,
   "id": "04d655aa",
   "metadata": {},
   "outputs": [],
   "source": [
    "#scatter plot of Top 50 countries with the highest number of deaths\n",
    "fig = px.scatter(sorted_max_50deaths_df, x='location',y='max_total_deaths', color='location',title='Top 50 countries with the highest number of deaths')\n",
    "fig.show('notebook')"
   ]
  },
  {
   "cell_type": "code",
   "execution_count": null,
   "id": "c44a282d",
   "metadata": {},
   "outputs": [],
   "source": [
    "# pie chart showing a closer look of the top 10 countries with the highest number of deaths  \n",
    "fig = px.pie(sorted_max_10deaths_df, values='max_total_deaths', names='location',labels='location', title='Top 10 Countries with the Most Deaths',opacity=0.9)\n",
    "fig.update_traces(textposition='inside', textinfo='percent+label')\n",
    "fig.show('notebook')"
   ]
  },
  {
   "cell_type": "markdown",
   "id": "b0dce44d",
   "metadata": {},
   "source": [
    "## Using Matplotlib"
   ]
  },
  {
   "cell_type": "code",
   "execution_count": null,
   "id": "b88e109f",
   "metadata": {},
   "outputs": [],
   "source": [
    "# use matplotlib scatter plot to show the top 10 countries with the highest number of deaths\n",
    "fig = plt.figure(figsize=(10,5))\n",
    "plt.scatter(sorted_max_50deaths_df['location'],sorted_max_50deaths_df['max_total_deaths'],color='red',marker='p')\n",
    "plt.title('Top 10 Countries with the Most Deaths')\n",
    "plt.xlabel('Countries')\n",
    "plt.xticks(rotation=90)\n",
    "plt.ylabel('Total Deaths in Millions')\n",
    "plt.show()"
   ]
  },
  {
   "cell_type": "markdown",
   "id": "65d1969f",
   "metadata": {},
   "source": [
    "# Progress of fully vaccinated people in the world -Vasanta"
   ]
  },
  {
   "cell_type": "code",
   "execution_count": null,
   "id": "06c058c1",
   "metadata": {},
   "outputs": [],
   "source": [
    "# Top 10 fully vaccinated countries\n",
    "clean_covid_df['total_fully_vaccinated'] = clean_covid_df.groupby('location')['people_fully_vaccinated'].transform('max')\n",
    "sorted_top_10vacci_df = clean_covid_df.sort_values(by='total_fully_vaccinated', ascending=False).drop_duplicates(subset='total_fully_vaccinated').nlargest(10, 'total_fully_vaccinated')\n",
    "sorted_top_50vacci_df = clean_covid_df.sort_values(by='total_fully_vaccinated', ascending=False).drop_duplicates(subset='total_fully_vaccinated').nlargest(50, 'total_fully_vaccinated')\n",
    "sorted_top_10vacci_df"
   ]
  },
  {
   "cell_type": "code",
   "execution_count": null,
   "id": "4c56e190",
   "metadata": {},
   "outputs": [],
   "source": [
    "# find top 10 countries with the highest number of fully vaccinated people\n",
    "top_10_vacci = sorted_top_10vacci_df['location'].tolist()\n",
    "top_10_vacci_df = clean_covid_df[clean_covid_df['location'].isin(top_10_vacci)]\n",
    "top_10_vacci_df\n"
   ]
  },
  {
   "cell_type": "code",
   "execution_count": null,
   "id": "6056ad8d",
   "metadata": {},
   "outputs": [],
   "source": [
    "# line plot of Top 10 countries with the highest number of fully vaccinated people\n",
    "fig = px.line(top_10_vacci_df, x='date',y='people_fully_vaccinated_per_hundred', color='location',title='Top 10 Countries with the Most Fully Vaccinated')\n",
    "fig.show('notebook')"
   ]
  },
  {
   "cell_type": "code",
   "execution_count": null,
   "id": "e739d170",
   "metadata": {},
   "outputs": [],
   "source": [
    "# choropleth animated map of the progress of number of fully vaccinated people in the world\n",
    "fig = px.choropleth(clean_covid_df,locations='location',locationmode ='country names',\n",
    "color='total_fully_vaccinated',animation_frame='date', color_continuous_scale='Viridis_r',\n",
    "title='Progress of number of fully vaccinated people in the world')\n",
    "fig.show('notebook')"
   ]
  },
  {
   "cell_type": "markdown",
   "id": "a2ace78b",
   "metadata": {},
   "source": [
    "### Using matplotlib"
   ]
  },
  {
   "cell_type": "code",
   "execution_count": null,
   "id": "bb33b364",
   "metadata": {},
   "outputs": [],
   "source": [
    "# line plot in matplotlib of progress of Top 10 countries with the highest number of fully vaccinated people\n",
    "\n",
    "fig = plt.figure(figsize=(10,5))\n",
    "plt.plot(top_10_vacci_df['location'],top_10_vacci_df['people_fully_vaccinated'], color='green',marker='p')\n",
    "plt.title('Progress of vaccination in top 10 Countries with the most fully vaccinated people in the world')\n",
    "plt.xlabel('Country')\n",
    "plt.xticks(rotation=90)\n",
    "plt.ylabel('Fully Vaccinated (in Billions)')\n",
    "plt.show()"
   ]
  },
  {
   "cell_type": "markdown",
   "id": "e38392b9",
   "metadata": {},
   "source": [
    "# COVID-19 Data Visualization by Income Group - Parisa\n",
    "## Income groups are based on the World Bank classification."
   ]
  },
  {
   "cell_type": "code",
   "execution_count": null,
   "id": "a6a32dc8",
   "metadata": {},
   "outputs": [],
   "source": [
    "# The actual Data Frame\n",
    "# inspecting rows we notice many cells with NaN value\n",
    "data.head()"
   ]
  },
  {
   "cell_type": "code",
   "execution_count": null,
   "id": "7b22a3e1",
   "metadata": {},
   "outputs": [],
   "source": [
    "data.dtypes"
   ]
  },
  {
   "cell_type": "code",
   "execution_count": null,
   "id": "9330339f",
   "metadata": {},
   "outputs": [],
   "source": [
    "# CONVERTING THE DATA TYPE OF \"DATE\" FROM \"OBJECT\" TO \"DATETIME64\"\n",
    "data.date = pd.to_datetime(data.date)"
   ]
  },
  {
   "cell_type": "code",
   "execution_count": null,
   "id": "437acd5f",
   "metadata": {},
   "outputs": [],
   "source": [
    "# Defining Income Groups\n",
    "data_li = data[data['location']=='Low income']\n",
    "data_lmi = data[data['location']=='Lower middle income']\n",
    "data_umi = data[data['location']=='Upper middle income']\n",
    "data_hi = data[data['location']=='High income']\n",
    "data_w = data[data['location']=='World']"
   ]
  },
  {
   "cell_type": "code",
   "execution_count": null,
   "id": "6ec15a0f",
   "metadata": {},
   "outputs": [],
   "source": [
    "# Creating a new Dataframe by merging income group dataframes\n",
    "income_df = pd.concat([data_li, data_lmi, data_umi, data_hi ])\n",
    "income_df=income_df.fillna(value=0)\n",
    "income_df"
   ]
  },
  {
   "cell_type": "code",
   "execution_count": null,
   "id": "178e84ed",
   "metadata": {},
   "outputs": [],
   "source": [
    "fig = px.line(income_df, x='date',y='new_cases_smoothed', color='location',title='Number of Cases by Country Income')\n",
    "fig.show('notebook')"
   ]
  },
  {
   "cell_type": "code",
   "execution_count": null,
   "id": "61ae84ef",
   "metadata": {},
   "outputs": [],
   "source": [
    "fig = px.line(income_df, x='date',y='total_deaths', color='location',title='Total Deaths by Country Income')\n",
    "fig.show('notebook')"
   ]
  },
  {
   "cell_type": "code",
   "execution_count": null,
   "id": "91ac6087",
   "metadata": {},
   "outputs": [],
   "source": [
    "fig = px.line(income_df, x='date',y='people_fully_vaccinated_per_hundred', color='location',title='People Fully Vaccinated by Country Income')\n",
    "\n",
    "fig.show('notebook')"
   ]
  },
  {
   "cell_type": "markdown",
   "id": "cddea167",
   "metadata": {},
   "source": [
    "#sort the data so you have the top 5 max countries with diabeties prevelance versus the 5 ones with the lowest diabeties\n",
    "#clean_covid_df['max_total_deaths'] = clean_covid_df.groupby('location')['total_deaths'].transform('max')\n",
    "\n",
    "fig = px.scatter(clean_location, x='diabetes_prevalence',y='total_deaths', color='location',title='Total Deaths and diabetes prevalence', trendline=\"ols\", trendline_scope=\"overall\")\n",
    "fig.show()\n"
   ]
  },
  {
   "cell_type": "code",
   "execution_count": null,
   "id": "1ff4a9cd",
   "metadata": {},
   "outputs": [],
   "source": [
    "# Lauranes contribution \n",
    "If people with preexisting conditions are more prone to be hospitalized or die"
   ]
  },
  {
   "cell_type": "code",
   "execution_count": null,
   "id": "6ef119d5",
   "metadata": {},
   "outputs": [],
   "source": [
    "#Study data files\n",
    "\n",
    "owid = \"Data/owid-covid-data.csv\"\n",
    "\n",
    "#Read the mouse data and the study results\n",
    "#world_data = pd.read_csv(world)\n",
    "owid_data = pd.read_csv(owid)"
   ]
  },
  {
   "cell_type": "code",
   "execution_count": null,
   "id": "31036c3d",
   "metadata": {},
   "outputs": [],
   "source": [
    "#world_data.head()\n",
    "owid_data.head()"
   ]
  },
  {
   "cell_type": "code",
   "execution_count": null,
   "id": "4f78bf3f",
   "metadata": {},
   "outputs": [],
   "source": [
    "#clean up data\n",
    "location = owid_data.groupby(['location', 'diabetes_prevalence'], as_index=False).first()\n",
    "clean_location = location[['location','continent','total_deaths','diabetes_prevalence','total_cases','hosp_patients']]\n",
    "clean_location"
   ]
  },
  {
   "cell_type": "code",
   "execution_count": null,
   "id": "0c0e0b38",
   "metadata": {},
   "outputs": [],
   "source": [
    "#Drop the rows from total_cases rows with no data\n",
    "clean_location=clean_location.dropna().reset_index(drop=True)\n",
    "clean_location = clean_location.dropna(how='all')\n",
    "clean_location"
   ]
  },
  {
   "cell_type": "code",
   "execution_count": null,
   "id": "e296f2da",
   "metadata": {},
   "outputs": [],
   "source": [
    "#Scatter plot based on diabetes_prevalence and total_deaths per country\n",
    "\n",
    "fig = px.scatter(clean_location, x='diabetes_prevalence',y='total_deaths', color='location',title='Total Deaths and diabetes prevalence', trendline=\"ols\", trendline_scope=\"overall\")\n",
    "fig.show('notebook')"
   ]
  },
  {
   "cell_type": "code",
   "execution_count": null,
   "id": "3ba7b4fb",
   "metadata": {},
   "outputs": [],
   "source": [
    "#Run a correlation on diabetes_prevalence and total_deaths per country\n",
    "datadiabetes= clean_location['diabetes_prevalence']\n",
    "datadeaths= clean_location['total_deaths']\n",
    "corr1= pearsonr(datadiabetes,datadeaths)\n",
    "corr1"
   ]
  },
  {
   "cell_type": "code",
   "execution_count": null,
   "id": "652ad8b7",
   "metadata": {},
   "outputs": [],
   "source": [
    "#Scatter plot based on diabetes_prevalence and total_cases per country\n",
    "fig = px.scatter(clean_location, x='diabetes_prevalence',y='total_cases', color='location',title='Total cases and Diabetes prevelance', trendline=\"ols\", trendline_scope=\"overall\")\n",
    "fig.show('notebook')"
   ]
  },
  {
   "cell_type": "code",
   "execution_count": null,
   "id": "aa5de215",
   "metadata": {},
   "outputs": [],
   "source": [
    "#Run a correlation on diabetes_prevalence and total_cases per country\n",
    "datacases=clean_location['total_cases']\n",
    "corr2 = pearsonr(datadiabetes,datacases)\n",
    "corr2"
   ]
  },
  {
   "cell_type": "code",
   "execution_count": null,
   "id": "a6f93e08",
   "metadata": {},
   "outputs": [],
   "source": [
    "#Scatter plot based on diabetes_prevalence and hosp_patients per country\n",
    "fig = px.scatter(clean_location, x='diabetes_prevalence',y='hosp_patients', color='location',title='Hospitilization and Diabetes prevelance', trendline=\"ols\", trendline_scope=\"overall\")\n",
    "fig.show('notebook')"
   ]
  },
  {
   "cell_type": "code",
   "execution_count": null,
   "id": "6eaea906",
   "metadata": {},
   "outputs": [],
   "source": [
    "#Run a correlation on diabetes_prevalence and thosp_patients per country\n",
    "datahosp=clean_location['hosp_patients']\n",
    "corr3 = pearsonr(datadiabetes,datahosp)\n",
    "corr3"
   ]
  },
  {
   "cell_type": "code",
   "execution_count": null,
   "id": "24eb61b1",
   "metadata": {},
   "outputs": [],
   "source": [
    "#Overall correlation between the variables\n",
    "clean_location.corr()\n",
    "sns.heatmap(clean_location.corr(), vmin=-1, vmax=1, annot=True);"
   ]
  },
  {
   "cell_type": "markdown",
   "id": "120f25cf",
   "metadata": {},
   "source": []
  }
 ],
 "metadata": {
  "interpreter": {
   "hash": "eed84e3d14cee6c6cc5b4d44494277ebdf36fb0f3225505952c16bc2b05646ec"
  },
  "kernelspec": {
   "display_name": "Python 3 (ipykernel)",
   "language": "python",
   "name": "python3"
  },
  "language_info": {
   "codemirror_mode": {
    "name": "ipython",
    "version": 3
   },
   "file_extension": ".py",
   "mimetype": "text/x-python",
   "name": "python",
   "nbconvert_exporter": "python",
   "pygments_lexer": "ipython3",
   "version": "3.9.7"
  }
 },
 "nbformat": 4,
 "nbformat_minor": 5
}

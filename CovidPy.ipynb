{
 "cells": [
  {
   "cell_type": "markdown",
   "id": "7fd41ed2",
   "metadata": {},
   "source": [
    "Introduction (What we want to do and what data we are looking at):\n",
    "A novel corona virus (COVID 19) was identified in 2019 in Wuhan China. It has spread rapidly worldwide and was officially declared to be a pandemic by the WHO. To better understand the data available about it, we will be doing exploratory data analysis of the available COVID 19 data. The goal of the project is to study the impact of COVID 19 across the world using Python, Pandas and Matplotlib and present visualizations to show our analysis."
   ]
  },
  {
   "cell_type": "code",
   "execution_count": 1,
   "id": "7f6ffc51",
   "metadata": {},
   "outputs": [],
   "source": [
    "# Dependencies and Setup\n",
    "import matplotlib.pyplot as plt\n",
    "import pandas as pd\n",
    "import numpy as np\n",
    "import requests\n",
    "import json\n",
    "import time\n",
    "from scipy.stats import linregress\n",
    "import plotly.express as px"
   ]
  },
  {
   "cell_type": "code",
   "execution_count": 2,
   "id": "a1055f42",
   "metadata": {},
   "outputs": [],
   "source": [
    "# File to Load \n",
    "file = \"Data/owid-covid-data.csv\"\n",
    "\n",
    "# Read Purchasing File and store into Pandas data frame\n",
    "data = pd.read_csv(file)"
   ]
  },
  {
   "cell_type": "code",
   "execution_count": 3,
   "id": "dc770a02",
   "metadata": {},
   "outputs": [
    {
     "name": "stdout",
     "output_type": "stream",
     "text": [
      "<class 'pandas.core.frame.DataFrame'>\n",
      "RangeIndex: 181463 entries, 0 to 181462\n",
      "Data columns (total 67 columns):\n",
      " #   Column                                      Non-Null Count   Dtype  \n",
      "---  ------                                      --------------   -----  \n",
      " 0   iso_code                                    181463 non-null  object \n",
      " 1   continent                                   170857 non-null  object \n",
      " 2   location                                    181463 non-null  object \n",
      " 3   date                                        181463 non-null  object \n",
      " 4   total_cases                                 174693 non-null  float64\n",
      " 5   new_cases                                   174468 non-null  float64\n",
      " 6   new_cases_smoothed                          173299 non-null  float64\n",
      " 7   total_deaths                                156469 non-null  float64\n",
      " 8   new_deaths                                  156467 non-null  float64\n",
      " 9   new_deaths_smoothed                         155320 non-null  float64\n",
      " 10  total_cases_per_million                     173885 non-null  float64\n",
      " 11  new_cases_per_million                       173660 non-null  float64\n",
      " 12  new_cases_smoothed_per_million              172496 non-null  float64\n",
      " 13  total_deaths_per_million                    155674 non-null  float64\n",
      " 14  new_deaths_per_million                      155672 non-null  float64\n",
      " 15  new_deaths_smoothed_per_million             154530 non-null  float64\n",
      " 16  reproduction_rate                           135364 non-null  float64\n",
      " 17  icu_patients                                24855 non-null   float64\n",
      " 18  icu_patients_per_million                    24855 non-null   float64\n",
      " 19  hosp_patients                               25574 non-null   float64\n",
      " 20  hosp_patients_per_million                   25574 non-null   float64\n",
      " 21  weekly_icu_admissions                       5861 non-null    float64\n",
      " 22  weekly_icu_admissions_per_million           5861 non-null    float64\n",
      " 23  weekly_hosp_admissions                      11736 non-null   float64\n",
      " 24  weekly_hosp_admissions_per_million          11736 non-null   float64\n",
      " 25  total_tests                                 74878 non-null   float64\n",
      " 26  new_tests                                   72176 non-null   float64\n",
      " 27  total_tests_per_thousand                    74878 non-null   float64\n",
      " 28  new_tests_per_thousand                      72176 non-null   float64\n",
      " 29  new_tests_smoothed                          94680 non-null   float64\n",
      " 30  new_tests_smoothed_per_thousand             94680 non-null   float64\n",
      " 31  positive_rate                               91347 non-null   float64\n",
      " 32  tests_per_case                              90084 non-null   float64\n",
      " 33  tests_units                                 97399 non-null   object \n",
      " 34  total_vaccinations                          49205 non-null   float64\n",
      " 35  people_vaccinated                           46794 non-null   float64\n",
      " 36  people_fully_vaccinated                     44264 non-null   float64\n",
      " 37  total_boosters                              21627 non-null   float64\n",
      " 38  new_vaccinations                            40445 non-null   float64\n",
      " 39  new_vaccinations_smoothed                   94817 non-null   float64\n",
      " 40  total_vaccinations_per_hundred              49205 non-null   float64\n",
      " 41  people_vaccinated_per_hundred               46794 non-null   float64\n",
      " 42  people_fully_vaccinated_per_hundred         44264 non-null   float64\n",
      " 43  total_boosters_per_hundred                  21627 non-null   float64\n",
      " 44  new_vaccinations_smoothed_per_million       94817 non-null   float64\n",
      " 45  new_people_vaccinated_smoothed              93820 non-null   float64\n",
      " 46  new_people_vaccinated_smoothed_per_hundred  93820 non-null   float64\n",
      " 47  stringency_index                            141406 non-null  float64\n",
      " 48  population                                  180338 non-null  float64\n",
      " 49  population_density                          161683 non-null  float64\n",
      " 50  median_age                                  149827 non-null  float64\n",
      " 51  aged_65_older                               148232 non-null  float64\n",
      " 52  aged_70_older                               149038 non-null  float64\n",
      " 53  gdp_per_capita                              149470 non-null  float64\n",
      " 54  extreme_poverty                             97625 non-null   float64\n",
      " 55  cardiovasc_death_rate                       149507 non-null  float64\n",
      " 56  diabetes_prevalence                         156816 non-null  float64\n",
      " 57  female_smokers                              113428 non-null  float64\n",
      " 58  male_smokers                                111873 non-null  float64\n",
      " 59  handwashing_facilities                      73677 non-null   float64\n",
      " 60  hospital_beds_per_thousand                  132605 non-null  float64\n",
      " 61  life_expectancy                             169683 non-null  float64\n",
      " 62  human_development_index                     146061 non-null  float64\n",
      " 63  excess_mortality_cumulative_absolute        6229 non-null    float64\n",
      " 64  excess_mortality_cumulative                 6229 non-null    float64\n",
      " 65  excess_mortality                            6229 non-null    float64\n",
      " 66  excess_mortality_cumulative_per_million     6229 non-null    float64\n",
      "dtypes: float64(62), object(5)\n",
      "memory usage: 92.8+ MB\n"
     ]
    }
   ],
   "source": [
    "data.info()"
   ]
  },
  {
   "cell_type": "code",
   "execution_count": 4,
   "id": "40a41132",
   "metadata": {},
   "outputs": [
    {
     "data": {
      "text/plain": [
       "iso_code                                        0\n",
       "continent                                   10606\n",
       "location                                        0\n",
       "date                                            0\n",
       "total_cases                                  6770\n",
       "                                            ...  \n",
       "human_development_index                     35402\n",
       "excess_mortality_cumulative_absolute       175234\n",
       "excess_mortality_cumulative                175234\n",
       "excess_mortality                           175234\n",
       "excess_mortality_cumulative_per_million    175234\n",
       "Length: 67, dtype: int64"
      ]
     },
     "execution_count": 4,
     "metadata": {},
     "output_type": "execute_result"
    }
   ],
   "source": [
    "data.isnull().sum()"
   ]
  },
  {
   "cell_type": "code",
   "execution_count": 5,
   "id": "228c2321",
   "metadata": {},
   "outputs": [
    {
     "data": {
      "text/html": [
       "<div>\n",
       "<style scoped>\n",
       "    .dataframe tbody tr th:only-of-type {\n",
       "        vertical-align: middle;\n",
       "    }\n",
       "\n",
       "    .dataframe tbody tr th {\n",
       "        vertical-align: top;\n",
       "    }\n",
       "\n",
       "    .dataframe thead th {\n",
       "        text-align: right;\n",
       "    }\n",
       "</style>\n",
       "<table border=\"1\" class=\"dataframe\">\n",
       "  <thead>\n",
       "    <tr style=\"text-align: right;\">\n",
       "      <th></th>\n",
       "      <th>iso_code</th>\n",
       "      <th>continent</th>\n",
       "      <th>location</th>\n",
       "      <th>date</th>\n",
       "      <th>total_cases</th>\n",
       "      <th>new_cases</th>\n",
       "      <th>new_cases_smoothed</th>\n",
       "      <th>total_deaths</th>\n",
       "      <th>new_deaths</th>\n",
       "      <th>new_deaths_smoothed</th>\n",
       "      <th>...</th>\n",
       "      <th>female_smokers</th>\n",
       "      <th>male_smokers</th>\n",
       "      <th>handwashing_facilities</th>\n",
       "      <th>hospital_beds_per_thousand</th>\n",
       "      <th>life_expectancy</th>\n",
       "      <th>human_development_index</th>\n",
       "      <th>excess_mortality_cumulative_absolute</th>\n",
       "      <th>excess_mortality_cumulative</th>\n",
       "      <th>excess_mortality</th>\n",
       "      <th>excess_mortality_cumulative_per_million</th>\n",
       "    </tr>\n",
       "  </thead>\n",
       "  <tbody>\n",
       "    <tr>\n",
       "      <th>0</th>\n",
       "      <td>AFG</td>\n",
       "      <td>Asia</td>\n",
       "      <td>Afghanistan</td>\n",
       "      <td>2020-02-24</td>\n",
       "      <td>5.0</td>\n",
       "      <td>5.0</td>\n",
       "      <td>NaN</td>\n",
       "      <td>NaN</td>\n",
       "      <td>NaN</td>\n",
       "      <td>NaN</td>\n",
       "      <td>...</td>\n",
       "      <td>NaN</td>\n",
       "      <td>NaN</td>\n",
       "      <td>37.746</td>\n",
       "      <td>0.5</td>\n",
       "      <td>64.83</td>\n",
       "      <td>0.511</td>\n",
       "      <td>NaN</td>\n",
       "      <td>NaN</td>\n",
       "      <td>NaN</td>\n",
       "      <td>NaN</td>\n",
       "    </tr>\n",
       "    <tr>\n",
       "      <th>1</th>\n",
       "      <td>AFG</td>\n",
       "      <td>Asia</td>\n",
       "      <td>Afghanistan</td>\n",
       "      <td>2020-02-25</td>\n",
       "      <td>5.0</td>\n",
       "      <td>0.0</td>\n",
       "      <td>NaN</td>\n",
       "      <td>NaN</td>\n",
       "      <td>NaN</td>\n",
       "      <td>NaN</td>\n",
       "      <td>...</td>\n",
       "      <td>NaN</td>\n",
       "      <td>NaN</td>\n",
       "      <td>37.746</td>\n",
       "      <td>0.5</td>\n",
       "      <td>64.83</td>\n",
       "      <td>0.511</td>\n",
       "      <td>NaN</td>\n",
       "      <td>NaN</td>\n",
       "      <td>NaN</td>\n",
       "      <td>NaN</td>\n",
       "    </tr>\n",
       "    <tr>\n",
       "      <th>2</th>\n",
       "      <td>AFG</td>\n",
       "      <td>Asia</td>\n",
       "      <td>Afghanistan</td>\n",
       "      <td>2020-02-26</td>\n",
       "      <td>5.0</td>\n",
       "      <td>0.0</td>\n",
       "      <td>NaN</td>\n",
       "      <td>NaN</td>\n",
       "      <td>NaN</td>\n",
       "      <td>NaN</td>\n",
       "      <td>...</td>\n",
       "      <td>NaN</td>\n",
       "      <td>NaN</td>\n",
       "      <td>37.746</td>\n",
       "      <td>0.5</td>\n",
       "      <td>64.83</td>\n",
       "      <td>0.511</td>\n",
       "      <td>NaN</td>\n",
       "      <td>NaN</td>\n",
       "      <td>NaN</td>\n",
       "      <td>NaN</td>\n",
       "    </tr>\n",
       "    <tr>\n",
       "      <th>3</th>\n",
       "      <td>AFG</td>\n",
       "      <td>Asia</td>\n",
       "      <td>Afghanistan</td>\n",
       "      <td>2020-02-27</td>\n",
       "      <td>5.0</td>\n",
       "      <td>0.0</td>\n",
       "      <td>NaN</td>\n",
       "      <td>NaN</td>\n",
       "      <td>NaN</td>\n",
       "      <td>NaN</td>\n",
       "      <td>...</td>\n",
       "      <td>NaN</td>\n",
       "      <td>NaN</td>\n",
       "      <td>37.746</td>\n",
       "      <td>0.5</td>\n",
       "      <td>64.83</td>\n",
       "      <td>0.511</td>\n",
       "      <td>NaN</td>\n",
       "      <td>NaN</td>\n",
       "      <td>NaN</td>\n",
       "      <td>NaN</td>\n",
       "    </tr>\n",
       "    <tr>\n",
       "      <th>4</th>\n",
       "      <td>AFG</td>\n",
       "      <td>Asia</td>\n",
       "      <td>Afghanistan</td>\n",
       "      <td>2020-02-28</td>\n",
       "      <td>5.0</td>\n",
       "      <td>0.0</td>\n",
       "      <td>NaN</td>\n",
       "      <td>NaN</td>\n",
       "      <td>NaN</td>\n",
       "      <td>NaN</td>\n",
       "      <td>...</td>\n",
       "      <td>NaN</td>\n",
       "      <td>NaN</td>\n",
       "      <td>37.746</td>\n",
       "      <td>0.5</td>\n",
       "      <td>64.83</td>\n",
       "      <td>0.511</td>\n",
       "      <td>NaN</td>\n",
       "      <td>NaN</td>\n",
       "      <td>NaN</td>\n",
       "      <td>NaN</td>\n",
       "    </tr>\n",
       "  </tbody>\n",
       "</table>\n",
       "<p>5 rows × 67 columns</p>\n",
       "</div>"
      ],
      "text/plain": [
       "  iso_code continent     location        date  total_cases  new_cases  \\\n",
       "0      AFG      Asia  Afghanistan  2020-02-24          5.0        5.0   \n",
       "1      AFG      Asia  Afghanistan  2020-02-25          5.0        0.0   \n",
       "2      AFG      Asia  Afghanistan  2020-02-26          5.0        0.0   \n",
       "3      AFG      Asia  Afghanistan  2020-02-27          5.0        0.0   \n",
       "4      AFG      Asia  Afghanistan  2020-02-28          5.0        0.0   \n",
       "\n",
       "   new_cases_smoothed  total_deaths  new_deaths  new_deaths_smoothed  ...  \\\n",
       "0                 NaN           NaN         NaN                  NaN  ...   \n",
       "1                 NaN           NaN         NaN                  NaN  ...   \n",
       "2                 NaN           NaN         NaN                  NaN  ...   \n",
       "3                 NaN           NaN         NaN                  NaN  ...   \n",
       "4                 NaN           NaN         NaN                  NaN  ...   \n",
       "\n",
       "   female_smokers  male_smokers  handwashing_facilities  \\\n",
       "0             NaN           NaN                  37.746   \n",
       "1             NaN           NaN                  37.746   \n",
       "2             NaN           NaN                  37.746   \n",
       "3             NaN           NaN                  37.746   \n",
       "4             NaN           NaN                  37.746   \n",
       "\n",
       "   hospital_beds_per_thousand  life_expectancy  human_development_index  \\\n",
       "0                         0.5            64.83                    0.511   \n",
       "1                         0.5            64.83                    0.511   \n",
       "2                         0.5            64.83                    0.511   \n",
       "3                         0.5            64.83                    0.511   \n",
       "4                         0.5            64.83                    0.511   \n",
       "\n",
       "   excess_mortality_cumulative_absolute  excess_mortality_cumulative  \\\n",
       "0                                   NaN                          NaN   \n",
       "1                                   NaN                          NaN   \n",
       "2                                   NaN                          NaN   \n",
       "3                                   NaN                          NaN   \n",
       "4                                   NaN                          NaN   \n",
       "\n",
       "   excess_mortality  excess_mortality_cumulative_per_million  \n",
       "0               NaN                                      NaN  \n",
       "1               NaN                                      NaN  \n",
       "2               NaN                                      NaN  \n",
       "3               NaN                                      NaN  \n",
       "4               NaN                                      NaN  \n",
       "\n",
       "[5 rows x 67 columns]"
      ]
     },
     "execution_count": 5,
     "metadata": {},
     "output_type": "execute_result"
    }
   ],
   "source": [
    "data.head()"
   ]
  },
  {
   "cell_type": "code",
   "execution_count": 6,
   "id": "40f04c60",
   "metadata": {},
   "outputs": [
    {
     "name": "stdout",
     "output_type": "stream",
     "text": [
      "This research includes data from  243 countries from 6 continents.\n"
     ]
    }
   ],
   "source": [
    "# number of countries\n",
    "count_countries = data['location'].nunique()\n",
    "\n",
    "# number of continents\n",
    "count_continents = data['continent'].nunique()\n",
    "\n",
    "print(\"This research includes data from \", count_countries, \"countries from\", count_continents, \"continents.\")"
   ]
  },
  {
   "cell_type": "code",
   "execution_count": 7,
   "id": "a0b46334",
   "metadata": {},
   "outputs": [
    {
     "data": {
      "text/plain": [
       "Index(['iso_code', 'continent', 'location', 'date', 'total_cases', 'new_cases',\n",
       "       'new_cases_smoothed', 'total_deaths', 'new_deaths',\n",
       "       'new_deaths_smoothed', 'total_cases_per_million',\n",
       "       'new_cases_per_million', 'new_cases_smoothed_per_million',\n",
       "       'total_deaths_per_million', 'new_deaths_per_million',\n",
       "       'new_deaths_smoothed_per_million', 'reproduction_rate', 'icu_patients',\n",
       "       'icu_patients_per_million', 'hosp_patients',\n",
       "       'hosp_patients_per_million', 'weekly_icu_admissions',\n",
       "       'weekly_icu_admissions_per_million', 'weekly_hosp_admissions',\n",
       "       'weekly_hosp_admissions_per_million', 'total_tests', 'new_tests',\n",
       "       'total_tests_per_thousand', 'new_tests_per_thousand',\n",
       "       'new_tests_smoothed', 'new_tests_smoothed_per_thousand',\n",
       "       'positive_rate', 'tests_per_case', 'tests_units', 'total_vaccinations',\n",
       "       'people_vaccinated', 'people_fully_vaccinated', 'total_boosters',\n",
       "       'new_vaccinations', 'new_vaccinations_smoothed',\n",
       "       'total_vaccinations_per_hundred', 'people_vaccinated_per_hundred',\n",
       "       'people_fully_vaccinated_per_hundred', 'total_boosters_per_hundred',\n",
       "       'new_vaccinations_smoothed_per_million',\n",
       "       'new_people_vaccinated_smoothed',\n",
       "       'new_people_vaccinated_smoothed_per_hundred', 'stringency_index',\n",
       "       'population', 'population_density', 'median_age', 'aged_65_older',\n",
       "       'aged_70_older', 'gdp_per_capita', 'extreme_poverty',\n",
       "       'cardiovasc_death_rate', 'diabetes_prevalence', 'female_smokers',\n",
       "       'male_smokers', 'handwashing_facilities', 'hospital_beds_per_thousand',\n",
       "       'life_expectancy', 'human_development_index',\n",
       "       'excess_mortality_cumulative_absolute', 'excess_mortality_cumulative',\n",
       "       'excess_mortality', 'excess_mortality_cumulative_per_million'],\n",
       "      dtype='object')"
      ]
     },
     "execution_count": 7,
     "metadata": {},
     "output_type": "execute_result"
    }
   ],
   "source": [
    "# sample data, 50,000 rows of 181,463 rows\n",
    "sample_data = data.sample(n=50000)\n",
    "sample_data.columns"
   ]
  },
  {
   "cell_type": "code",
   "execution_count": 8,
   "id": "235c0ad0",
   "metadata": {},
   "outputs": [],
   "source": [
    "# Cleaning Dataframe\n",
    "# cleaning null values\n",
    "data.fillna(value = 0, inplace = True)\n",
    "\n",
    "# dropping rows that doesn't have the country name\n",
    "values = ['Africa','Asia', 'Low income', 'Lower middle income', 'Upper middle income', 'World', 'International', 'Europe',\n",
    "         'North America', 'European Union', 'High income', 'Oceania', 'South America']\n",
    "\n",
    "#drop any rows that have 7 or 11 in the rebounds column\n",
    "df1 = data[data.location.isin(values) == False]\n",
    "df = pd.DataFrame.from_dict(df1)\n",
    "\n",
    "# df is dataframe without actual country name\n",
    "df\n",
    "\n",
    "# drop columns\n",
    "to_drop = ['iso_code', 'new_cases_smoothed', 'new_deaths_smoothed', 'new_cases_smoothed_per_million', \n",
    "          'new_deaths_smoothed_per_million', 'reproduction_rate', 'new_tests_smoothed', 'new_tests_smoothed_per_thousand',\n",
    "          'new_people_vaccinated_smoothed','new_people_vaccinated_smoothed_per_hundred', 'stringency_index', 'excess_mortality'\n",
    "          , 'excess_mortality_cumulative_absolute', 'excess_mortality_cumulative', 'excess_mortality_cumulative_per_million'\n",
    "          ]\n",
    "\n",
    "df.drop(to_drop, inplace=True, axis=1)\n",
    "df.head()\n",
    "df.to_csv('Data/df.csv')"
   ]
  },
  {
   "cell_type": "markdown",
   "id": "47f39207",
   "metadata": {},
   "source": [
    "# Research questions to answer:\n"
   ]
  },
  {
   "cell_type": "markdown",
   "id": "23551f4b",
   "metadata": {},
   "source": [
    "       # Overview"
   ]
  },
  {
   "cell_type": "code",
   "execution_count": 9,
   "id": "04aefaa0",
   "metadata": {},
   "outputs": [
    {
     "data": {
      "text/html": [
       "<div>\n",
       "<style scoped>\n",
       "    .dataframe tbody tr th:only-of-type {\n",
       "        vertical-align: middle;\n",
       "    }\n",
       "\n",
       "    .dataframe tbody tr th {\n",
       "        vertical-align: top;\n",
       "    }\n",
       "\n",
       "    .dataframe thead th {\n",
       "        text-align: right;\n",
       "    }\n",
       "</style>\n",
       "<table border=\"1\" class=\"dataframe\">\n",
       "  <thead>\n",
       "    <tr style=\"text-align: right;\">\n",
       "      <th></th>\n",
       "      <th>total_vaccinations</th>\n",
       "      <th>total_cases</th>\n",
       "      <th>total_newcases</th>\n",
       "      <th>total_death</th>\n",
       "    </tr>\n",
       "    <tr>\n",
       "      <th>location</th>\n",
       "      <th></th>\n",
       "      <th></th>\n",
       "      <th></th>\n",
       "      <th></th>\n",
       "    </tr>\n",
       "  </thead>\n",
       "  <tbody>\n",
       "    <tr>\n",
       "      <th>Afghanistan</th>\n",
       "      <td>1.358034e+08</td>\n",
       "      <td>67460253.0</td>\n",
       "      <td>178697.0</td>\n",
       "      <td>2935539.0</td>\n",
       "    </tr>\n",
       "    <tr>\n",
       "      <th>Albania</th>\n",
       "      <td>3.150061e+08</td>\n",
       "      <td>84582267.0</td>\n",
       "      <td>274828.0</td>\n",
       "      <td>1348626.0</td>\n",
       "    </tr>\n",
       "    <tr>\n",
       "      <th>Algeria</th>\n",
       "      <td>2.389461e+08</td>\n",
       "      <td>96821087.0</td>\n",
       "      <td>265767.0</td>\n",
       "      <td>2706989.0</td>\n",
       "    </tr>\n",
       "    <tr>\n",
       "      <th>Andorra</th>\n",
       "      <td>2.752131e+06</td>\n",
       "      <td>9925678.0</td>\n",
       "      <td>41013.0</td>\n",
       "      <td>77113.0</td>\n",
       "    </tr>\n",
       "    <tr>\n",
       "      <th>Angola</th>\n",
       "      <td>4.074971e+08</td>\n",
       "      <td>27219706.0</td>\n",
       "      <td>99287.0</td>\n",
       "      <td>620494.0</td>\n",
       "    </tr>\n",
       "    <tr>\n",
       "      <th>...</th>\n",
       "      <td>...</td>\n",
       "      <td>...</td>\n",
       "      <td>...</td>\n",
       "      <td>...</td>\n",
       "    </tr>\n",
       "    <tr>\n",
       "      <th>Wallis and Futuna</th>\n",
       "      <td>3.981040e+05</td>\n",
       "      <td>183019.0</td>\n",
       "      <td>454.0</td>\n",
       "      <td>2688.0</td>\n",
       "    </tr>\n",
       "    <tr>\n",
       "      <th>Western Sahara</th>\n",
       "      <td>0.000000e+00</td>\n",
       "      <td>0.0</td>\n",
       "      <td>0.0</td>\n",
       "      <td>0.0</td>\n",
       "    </tr>\n",
       "    <tr>\n",
       "      <th>Yemen</th>\n",
       "      <td>1.136148e+07</td>\n",
       "      <td>4082281.0</td>\n",
       "      <td>11819.0</td>\n",
       "      <td>828029.0</td>\n",
       "    </tr>\n",
       "    <tr>\n",
       "      <th>Zambia</th>\n",
       "      <td>2.555911e+08</td>\n",
       "      <td>90096098.0</td>\n",
       "      <td>318984.0</td>\n",
       "      <td>1350569.0</td>\n",
       "    </tr>\n",
       "    <tr>\n",
       "      <th>Zimbabwe</th>\n",
       "      <td>1.822132e+09</td>\n",
       "      <td>58325340.0</td>\n",
       "      <td>247530.0</td>\n",
       "      <td>1677518.0</td>\n",
       "    </tr>\n",
       "  </tbody>\n",
       "</table>\n",
       "<p>230 rows × 4 columns</p>\n",
       "</div>"
      ],
      "text/plain": [
       "                   total_vaccinations  total_cases  total_newcases  \\\n",
       "location                                                             \n",
       "Afghanistan              1.358034e+08   67460253.0        178697.0   \n",
       "Albania                  3.150061e+08   84582267.0        274828.0   \n",
       "Algeria                  2.389461e+08   96821087.0        265767.0   \n",
       "Andorra                  2.752131e+06    9925678.0         41013.0   \n",
       "Angola                   4.074971e+08   27219706.0         99287.0   \n",
       "...                               ...          ...             ...   \n",
       "Wallis and Futuna        3.981040e+05     183019.0           454.0   \n",
       "Western Sahara           0.000000e+00          0.0             0.0   \n",
       "Yemen                    1.136148e+07    4082281.0         11819.0   \n",
       "Zambia                   2.555911e+08   90096098.0        318984.0   \n",
       "Zimbabwe                 1.822132e+09   58325340.0        247530.0   \n",
       "\n",
       "                   total_death  \n",
       "location                        \n",
       "Afghanistan          2935539.0  \n",
       "Albania              1348626.0  \n",
       "Algeria              2706989.0  \n",
       "Andorra                77113.0  \n",
       "Angola                620494.0  \n",
       "...                        ...  \n",
       "Wallis and Futuna       2688.0  \n",
       "Western Sahara             0.0  \n",
       "Yemen                 828029.0  \n",
       "Zambia               1350569.0  \n",
       "Zimbabwe             1677518.0  \n",
       "\n",
       "[230 rows x 4 columns]"
      ]
     },
     "execution_count": 9,
     "metadata": {},
     "output_type": "execute_result"
    }
   ],
   "source": [
    "total_vaccinations = df.groupby('location').sum()['total_vaccinations']\n",
    "total_cases = df.groupby('location').sum()['total_cases']\n",
    "total_newcases = df.groupby('location').sum()['new_cases']\n",
    "total_death = df.groupby('location').sum()['total_deaths']\n",
    "\n",
    "summary_table = pd.DataFrame({\"total_vaccinations\":total_vaccinations,\n",
    "                              \"total_cases\":total_cases,\n",
    "                              \"total_newcases\":total_newcases,\n",
    "                              \"total_death\":total_death })\n",
    "summary_table"
   ]
  },
  {
   "cell_type": "code",
   "execution_count": 10,
   "id": "ae16fbac",
   "metadata": {},
   "outputs": [
    {
     "ename": "SyntaxError",
     "evalue": "invalid syntax (Temp/ipykernel_22440/2022783678.py, line 7)",
     "output_type": "error",
     "traceback": [
      "\u001b[1;36m  File \u001b[1;32m\"C:\\Users\\anahi\\AppData\\Local\\Temp/ipykernel_22440/2022783678.py\"\u001b[1;36m, line \u001b[1;32m7\u001b[0m\n\u001b[1;33m    for in (len(summary_table)):\u001b[0m\n\u001b[1;37m        ^\u001b[0m\n\u001b[1;31mSyntaxError\u001b[0m\u001b[1;31m:\u001b[0m invalid syntax\n"
     ]
    }
   ],
   "source": [
    "# detecting outliners\n",
    "Q1 = summary_table['total_vaccinations'].quantile(0.25)\n",
    "Q3 = summary_table['total_vaccinations'].quantile(0.75)\n",
    "IQR = Q3 - Q1\n",
    "print(IQR)\n",
    "\n",
    "for in (len(summary_table)):\n",
    "#summary_table['total_vaccinations'] < (Q1 - 1.5 * IQR) |(summary_table['total_vaccinations'] > (Q3 + 1.5 * IQR))"
   ]
  },
  {
   "cell_type": "code",
   "execution_count": null,
   "id": "6d306558",
   "metadata": {},
   "outputs": [],
   "source": [
    "# Create a function to create Linear Regression plots\n",
    "def plot_linear_regression(x_values, y_values, title, text_coordinates):\n",
    "    \n",
    "    # Run regresson on southern hemisphere\n",
    "    (slope, intercept, rvalue, pvalue, stderr) = linregress(x_values, y_values)\n",
    "    regress_values = x_values * slope + intercept\n",
    "    line_eq = \"y = \" + str(round(slope,2)) + \"x + \" + str(round(intercept,2))\n",
    "\n",
    "    # Plot\n",
    "    plt.scatter(x_values,y_values)\n",
    "    plt.plot(x_values,regress_values,\"r-\")\n",
    "    plt.annotate(line_eq,text_coordinates,fontsize=15,color=\"red\")\n",
    "    plt.xlabel('total cases')\n",
    "    plt.ylabel(title)\n",
    "    print(f\"The r-value is: {rvalue**2}\")\n",
    "    plt.show()"
   ]
  },
  {
   "cell_type": "code",
   "execution_count": null,
   "id": "f5e624b0",
   "metadata": {},
   "outputs": [],
   "source": [
    "x_values = summary_table['total_cases']\n",
    "y_values = summary_table['total_vaccinations']\n",
    "plot_linear_regression(x_values, y_values, 'Vaccination', (40,25))"
   ]
  },
  {
   "cell_type": "code",
   "execution_count": null,
   "id": "601a7fe8",
   "metadata": {},
   "outputs": [],
   "source": [
    "total_vaccinations = df.groupby('continent').sum()['total_vaccinations']\n",
    "total_cases = df.groupby('continent').sum()['total_cases']\n",
    "total_newcases = df.groupby('continent').sum()['new_cases']\n",
    "total_death = df.groupby('continent').sum()['total_deaths']\n",
    "\n",
    "continent_summary_table = pd.DataFrame({\"total_vaccinations\":total_vaccinations,\n",
    "                              \"total_cases\":total_cases,\n",
    "                              \"total_newcases\":total_newcases,\n",
    "                              \"total_death\":total_death })\n",
    "continent_summary_table"
   ]
  },
  {
   "cell_type": "code",
   "execution_count": null,
   "id": "ae5417d9",
   "metadata": {},
   "outputs": [],
   "source": [
    "#counts = summary_table['Drug Regimen'].value_counts()\n",
    "continent_summary_table.plot(kind=\"bar\")\n",
    "plt.xlabel(\"Continets\")\n",
    "plt.xticks(rotation=90)\n",
    "plt.ylabel(\"total numbers\")\n",
    "plt.show()"
   ]
  },
  {
   "cell_type": "code",
   "execution_count": null,
   "id": "370d7ffa",
   "metadata": {},
   "outputs": [],
   "source": [
    "plt.scatter(continent_summary_table['total_cases'], continent_summary_table['total_vaccinations'])\n",
    "plt.ylabel('total_vaccinations')\n",
    "plt.xlabel('total_cases')\n",
    "plt.title('total cases vs vaccination')\n",
    "plt.show()"
   ]
  },
  {
   "cell_type": "code",
   "execution_count": null,
   "id": "57650029",
   "metadata": {},
   "outputs": [],
   "source": [
    "x_values = continent_summary_table['total_cases']\n",
    "y_values = continent_summary_table['total_vaccinations']\n",
    "plot_linear_regression(x_values, y_values, 'Vaccination', (40,25))"
   ]
  },
  {
   "cell_type": "markdown",
   "id": "729b3306",
   "metadata": {},
   "source": [
    "GDP versus vaccines/cases "
   ]
  },
  {
   "cell_type": "markdown",
   "id": "69b4d185",
   "metadata": {},
   "source": [
    "Correlation between cases and amount of people vaccinated"
   ]
  },
  {
   "cell_type": "code",
   "execution_count": null,
   "id": "873a97c3",
   "metadata": {},
   "outputs": [],
   "source": []
  },
  {
   "cell_type": "markdown",
   "id": "a740f303",
   "metadata": {},
   "source": [
    "Relation between rate of vaccination and mortality rate"
   ]
  },
  {
   "cell_type": "code",
   "execution_count": null,
   "id": "0e9d3cb2",
   "metadata": {},
   "outputs": [],
   "source": []
  },
  {
   "cell_type": "markdown",
   "id": "2f7fab22",
   "metadata": {},
   "source": [
    "Relation between rate of vaccination and mortality rate "
   ]
  },
  {
   "cell_type": "code",
   "execution_count": null,
   "id": "12d0210f",
   "metadata": {},
   "outputs": [],
   "source": []
  },
  {
   "cell_type": "markdown",
   "id": "469e0526",
   "metadata": {},
   "source": [
    "Age nd mortality rate "
   ]
  },
  {
   "cell_type": "code",
   "execution_count": null,
   "id": "404fee17",
   "metadata": {},
   "outputs": [],
   "source": []
  },
  {
   "cell_type": "markdown",
   "id": "4e761d21",
   "metadata": {},
   "source": [
    "Age and vaccination rate "
   ]
  },
  {
   "cell_type": "code",
   "execution_count": null,
   "id": "9fd434de",
   "metadata": {},
   "outputs": [],
   "source": []
  },
  {
   "cell_type": "markdown",
   "id": "acf2e69c",
   "metadata": {},
   "source": [
    "How effective the vaccination is in each country"
   ]
  },
  {
   "cell_type": "code",
   "execution_count": null,
   "id": "f8525edc",
   "metadata": {},
   "outputs": [],
   "source": []
  },
  {
   "cell_type": "markdown",
   "id": "b5eabb53",
   "metadata": {},
   "source": [
    "New cases over time by country"
   ]
  },
  {
   "cell_type": "code",
   "execution_count": null,
   "id": "bd817bb5",
   "metadata": {},
   "outputs": [],
   "source": []
  },
  {
   "cell_type": "markdown",
   "id": "2040cd19",
   "metadata": {},
   "source": [
    "Hospitalization rate by country"
   ]
  },
  {
   "cell_type": "code",
   "execution_count": null,
   "id": "6f133c52",
   "metadata": {},
   "outputs": [],
   "source": []
  },
  {
   "cell_type": "markdown",
   "id": "54b6db83",
   "metadata": {},
   "source": [
    "If people with preexisting conditions are more prone to be hospitalized or die"
   ]
  },
  {
   "cell_type": "code",
   "execution_count": null,
   "id": "373766b4",
   "metadata": {},
   "outputs": [],
   "source": []
  }
 ],
 "metadata": {
  "kernelspec": {
   "display_name": "Python 3 (ipykernel)",
   "language": "python",
   "name": "python3"
  },
  "language_info": {
   "codemirror_mode": {
    "name": "ipython",
    "version": 3
   },
   "file_extension": ".py",
   "mimetype": "text/x-python",
   "name": "python",
   "nbconvert_exporter": "python",
   "pygments_lexer": "ipython3",
   "version": "3.9.7"
  }
 },
 "nbformat": 4,
 "nbformat_minor": 5
}
